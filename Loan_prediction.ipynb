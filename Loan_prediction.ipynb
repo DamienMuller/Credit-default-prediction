{
 "cells": [
  {
   "cell_type": "markdown",
   "id": "0bee05de-8b44-4807-8e0d-2a86238adc8e",
   "metadata": {
    "jp-MarkdownHeadingCollapsed": true,
    "tags": []
   },
   "source": [
    "## Load the dataset"
   ]
  },
  {
   "cell_type": "code",
   "execution_count": 1,
   "id": "5d10e535-dd89-4f9c-aea8-44cad2a4cc0e",
   "metadata": {
    "tags": []
   },
   "outputs": [],
   "source": [
    "import pandas as pd\n",
    "import numpy as np\n",
    "import matplotlib.pyplot as plt \n",
    "import seaborn as sns\n",
    "from scipy.stats import pointbiserialr\n",
    "from sklearn.linear_model import LogisticRegression\n",
    "from sklearn.discriminant_analysis import LinearDiscriminantAnalysis\n",
    "from sklearn.tree import DecisionTreeClassifier\n",
    "from sklearn.pipeline import Pipeline\n",
    "from sklearn.compose import ColumnTransformer\n",
    "from sklearn.impute import SimpleImputer\n",
    "from sklearn.metrics import accuracy_score\n",
    "from sklearn.metrics import recall_score\n",
    "from sklearn.metrics import confusion_matrix\n",
    "from sklearn.metrics import roc_auc_score\n",
    "from sklearn.metrics import precision_recall_curve\n",
    "from sklearn.metrics import average_precision_score\n",
    "from sklearn.preprocessing import MinMaxScaler\n",
    "from sklearn.preprocessing import PowerTransformer\n",
    "from sklearn.linear_model import SGDClassifier\n",
    "from collections import Counter\n",
    "from imblearn.over_sampling import RandomOverSampler\n",
    "from imblearn.under_sampling import RandomUnderSampler\n",
    "from imblearn.over_sampling import SMOTE\n",
    "from imblearn.pipeline import make_pipeline"
   ]
  },
  {
   "cell_type": "code",
   "execution_count": 2,
   "id": "3ba6803e-95b0-4907-a688-6bc7f634346f",
   "metadata": {
    "scrolled": true
   },
   "outputs": [
    {
     "data": {
      "text/html": [
       "<div>\n",
       "<style scoped>\n",
       "    .dataframe tbody tr th:only-of-type {\n",
       "        vertical-align: middle;\n",
       "    }\n",
       "\n",
       "    .dataframe tbody tr th {\n",
       "        vertical-align: top;\n",
       "    }\n",
       "\n",
       "    .dataframe thead th {\n",
       "        text-align: right;\n",
       "    }\n",
       "</style>\n",
       "<table border=\"1\" class=\"dataframe\">\n",
       "  <thead>\n",
       "    <tr style=\"text-align: right;\">\n",
       "      <th></th>\n",
       "      <th>person_age</th>\n",
       "      <th>person_income</th>\n",
       "      <th>person_home_ownership</th>\n",
       "      <th>person_emp_length</th>\n",
       "      <th>loan_intent</th>\n",
       "      <th>loan_grade</th>\n",
       "      <th>loan_amnt</th>\n",
       "      <th>loan_int_rate</th>\n",
       "      <th>loan_status</th>\n",
       "      <th>loan_percent_income</th>\n",
       "      <th>cb_person_default_on_file</th>\n",
       "      <th>cb_person_cred_hist_length</th>\n",
       "    </tr>\n",
       "  </thead>\n",
       "  <tbody>\n",
       "    <tr>\n",
       "      <th>0</th>\n",
       "      <td>22</td>\n",
       "      <td>59000</td>\n",
       "      <td>RENT</td>\n",
       "      <td>123.0</td>\n",
       "      <td>PERSONAL</td>\n",
       "      <td>D</td>\n",
       "      <td>35000</td>\n",
       "      <td>16.02</td>\n",
       "      <td>1</td>\n",
       "      <td>0.59</td>\n",
       "      <td>Y</td>\n",
       "      <td>3</td>\n",
       "    </tr>\n",
       "    <tr>\n",
       "      <th>1</th>\n",
       "      <td>21</td>\n",
       "      <td>9600</td>\n",
       "      <td>OWN</td>\n",
       "      <td>5.0</td>\n",
       "      <td>EDUCATION</td>\n",
       "      <td>B</td>\n",
       "      <td>1000</td>\n",
       "      <td>11.14</td>\n",
       "      <td>0</td>\n",
       "      <td>0.10</td>\n",
       "      <td>N</td>\n",
       "      <td>2</td>\n",
       "    </tr>\n",
       "    <tr>\n",
       "      <th>2</th>\n",
       "      <td>25</td>\n",
       "      <td>9600</td>\n",
       "      <td>MORTGAGE</td>\n",
       "      <td>1.0</td>\n",
       "      <td>MEDICAL</td>\n",
       "      <td>C</td>\n",
       "      <td>5500</td>\n",
       "      <td>12.87</td>\n",
       "      <td>1</td>\n",
       "      <td>0.57</td>\n",
       "      <td>N</td>\n",
       "      <td>3</td>\n",
       "    </tr>\n",
       "    <tr>\n",
       "      <th>3</th>\n",
       "      <td>23</td>\n",
       "      <td>65500</td>\n",
       "      <td>RENT</td>\n",
       "      <td>4.0</td>\n",
       "      <td>MEDICAL</td>\n",
       "      <td>C</td>\n",
       "      <td>35000</td>\n",
       "      <td>15.23</td>\n",
       "      <td>1</td>\n",
       "      <td>0.53</td>\n",
       "      <td>N</td>\n",
       "      <td>2</td>\n",
       "    </tr>\n",
       "    <tr>\n",
       "      <th>4</th>\n",
       "      <td>24</td>\n",
       "      <td>54400</td>\n",
       "      <td>RENT</td>\n",
       "      <td>8.0</td>\n",
       "      <td>MEDICAL</td>\n",
       "      <td>C</td>\n",
       "      <td>35000</td>\n",
       "      <td>14.27</td>\n",
       "      <td>1</td>\n",
       "      <td>0.55</td>\n",
       "      <td>Y</td>\n",
       "      <td>4</td>\n",
       "    </tr>\n",
       "  </tbody>\n",
       "</table>\n",
       "</div>"
      ],
      "text/plain": [
       "   person_age  person_income person_home_ownership  person_emp_length  \\\n",
       "0          22          59000                  RENT              123.0   \n",
       "1          21           9600                   OWN                5.0   \n",
       "2          25           9600              MORTGAGE                1.0   \n",
       "3          23          65500                  RENT                4.0   \n",
       "4          24          54400                  RENT                8.0   \n",
       "\n",
       "  loan_intent loan_grade  loan_amnt  loan_int_rate  loan_status  \\\n",
       "0    PERSONAL          D      35000          16.02            1   \n",
       "1   EDUCATION          B       1000          11.14            0   \n",
       "2     MEDICAL          C       5500          12.87            1   \n",
       "3     MEDICAL          C      35000          15.23            1   \n",
       "4     MEDICAL          C      35000          14.27            1   \n",
       "\n",
       "   loan_percent_income cb_person_default_on_file  cb_person_cred_hist_length  \n",
       "0                 0.59                         Y                           3  \n",
       "1                 0.10                         N                           2  \n",
       "2                 0.57                         N                           3  \n",
       "3                 0.53                         N                           2  \n",
       "4                 0.55                         Y                           4  "
      ]
     },
     "execution_count": 2,
     "metadata": {},
     "output_type": "execute_result"
    }
   ],
   "source": [
    "# Import data from working directory\n",
    "loans = pd.read_csv('loan_data.csv')\n",
    "loans.head()"
   ]
  },
  {
   "cell_type": "markdown",
   "id": "87781d51-893e-4017-9300-7489a907eb8c",
   "metadata": {
    "tags": []
   },
   "source": [
    "## Exploratory analysis"
   ]
  },
  {
   "cell_type": "markdown",
   "id": "4ddb60d3-580b-4d62-af46-6779ab4b7a6a",
   "metadata": {
    "jp-MarkdownHeadingCollapsed": true,
    "tags": []
   },
   "source": [
    "### Descriptive statistics"
   ]
  },
  {
   "cell_type": "code",
   "execution_count": 3,
   "id": "34f0b746-7729-4337-b639-db1635e16e10",
   "metadata": {},
   "outputs": [
    {
     "data": {
      "text/plain": [
       "(32581, 12)"
      ]
     },
     "execution_count": 3,
     "metadata": {},
     "output_type": "execute_result"
    }
   ],
   "source": [
    "loans.shape"
   ]
  },
  {
   "cell_type": "markdown",
   "id": "0e8e42d9-7e84-455b-82c4-d30241614631",
   "metadata": {},
   "source": [
    "Data is composed of 32581 observations (loans) and 12 variables."
   ]
  },
  {
   "cell_type": "code",
   "execution_count": 4,
   "id": "5cb1bc94-a9e1-4621-b199-bda30c4ea360",
   "metadata": {},
   "outputs": [
    {
     "name": "stdout",
     "output_type": "stream",
     "text": [
      "<class 'pandas.core.frame.DataFrame'>\n",
      "RangeIndex: 32581 entries, 0 to 32580\n",
      "Data columns (total 12 columns):\n",
      " #   Column                      Non-Null Count  Dtype  \n",
      "---  ------                      --------------  -----  \n",
      " 0   person_age                  32581 non-null  int64  \n",
      " 1   person_income               32581 non-null  int64  \n",
      " 2   person_home_ownership       32581 non-null  object \n",
      " 3   person_emp_length           31686 non-null  float64\n",
      " 4   loan_intent                 32581 non-null  object \n",
      " 5   loan_grade                  32581 non-null  object \n",
      " 6   loan_amnt                   32581 non-null  int64  \n",
      " 7   loan_int_rate               29465 non-null  float64\n",
      " 8   loan_status                 32581 non-null  int64  \n",
      " 9   loan_percent_income         32581 non-null  float64\n",
      " 10  cb_person_default_on_file   32581 non-null  object \n",
      " 11  cb_person_cred_hist_length  32581 non-null  int64  \n",
      "dtypes: float64(3), int64(5), object(4)\n",
      "memory usage: 3.0+ MB\n"
     ]
    }
   ],
   "source": [
    "loans.info()"
   ]
  },
  {
   "cell_type": "markdown",
   "id": "83ba6270-22b4-426f-83e4-996c4f232cad",
   "metadata": {},
   "source": [
    "**Observations:**\n",
    "- The person_emp_length and loan_int_rate columns have missing values that should be addressed.  \n",
    "- There are also some categorical columns (person_home_ownership, loan_intent, loan_grade, cb_person_default_on_file) that need to be encoded before modeling. "
   ]
  },
  {
   "cell_type": "code",
   "execution_count": 5,
   "id": "5b25dde5-b5c2-44db-8798-e526ba2c4a9c",
   "metadata": {},
   "outputs": [
    {
     "data": {
      "text/html": [
       "<div>\n",
       "<style scoped>\n",
       "    .dataframe tbody tr th:only-of-type {\n",
       "        vertical-align: middle;\n",
       "    }\n",
       "\n",
       "    .dataframe tbody tr th {\n",
       "        vertical-align: top;\n",
       "    }\n",
       "\n",
       "    .dataframe thead th {\n",
       "        text-align: right;\n",
       "    }\n",
       "</style>\n",
       "<table border=\"1\" class=\"dataframe\">\n",
       "  <thead>\n",
       "    <tr style=\"text-align: right;\">\n",
       "      <th></th>\n",
       "      <th>person_age</th>\n",
       "      <th>person_income</th>\n",
       "      <th>person_emp_length</th>\n",
       "      <th>loan_amnt</th>\n",
       "      <th>loan_int_rate</th>\n",
       "      <th>loan_status</th>\n",
       "      <th>loan_percent_income</th>\n",
       "      <th>cb_person_cred_hist_length</th>\n",
       "    </tr>\n",
       "  </thead>\n",
       "  <tbody>\n",
       "    <tr>\n",
       "      <th>count</th>\n",
       "      <td>32581.00</td>\n",
       "      <td>32581.00</td>\n",
       "      <td>31686.00</td>\n",
       "      <td>32581.00</td>\n",
       "      <td>29465.00</td>\n",
       "      <td>32581.00</td>\n",
       "      <td>32581.00</td>\n",
       "      <td>32581.00</td>\n",
       "    </tr>\n",
       "    <tr>\n",
       "      <th>mean</th>\n",
       "      <td>27.73</td>\n",
       "      <td>66074.85</td>\n",
       "      <td>4.79</td>\n",
       "      <td>9589.37</td>\n",
       "      <td>11.01</td>\n",
       "      <td>0.22</td>\n",
       "      <td>0.17</td>\n",
       "      <td>5.80</td>\n",
       "    </tr>\n",
       "    <tr>\n",
       "      <th>std</th>\n",
       "      <td>6.35</td>\n",
       "      <td>61983.12</td>\n",
       "      <td>4.14</td>\n",
       "      <td>6322.09</td>\n",
       "      <td>3.24</td>\n",
       "      <td>0.41</td>\n",
       "      <td>0.11</td>\n",
       "      <td>4.06</td>\n",
       "    </tr>\n",
       "    <tr>\n",
       "      <th>min</th>\n",
       "      <td>20.00</td>\n",
       "      <td>4000.00</td>\n",
       "      <td>0.00</td>\n",
       "      <td>500.00</td>\n",
       "      <td>5.42</td>\n",
       "      <td>0.00</td>\n",
       "      <td>0.00</td>\n",
       "      <td>2.00</td>\n",
       "    </tr>\n",
       "    <tr>\n",
       "      <th>25%</th>\n",
       "      <td>23.00</td>\n",
       "      <td>38500.00</td>\n",
       "      <td>2.00</td>\n",
       "      <td>5000.00</td>\n",
       "      <td>7.90</td>\n",
       "      <td>0.00</td>\n",
       "      <td>0.09</td>\n",
       "      <td>3.00</td>\n",
       "    </tr>\n",
       "    <tr>\n",
       "      <th>50%</th>\n",
       "      <td>26.00</td>\n",
       "      <td>55000.00</td>\n",
       "      <td>4.00</td>\n",
       "      <td>8000.00</td>\n",
       "      <td>10.99</td>\n",
       "      <td>0.00</td>\n",
       "      <td>0.15</td>\n",
       "      <td>4.00</td>\n",
       "    </tr>\n",
       "    <tr>\n",
       "      <th>75%</th>\n",
       "      <td>30.00</td>\n",
       "      <td>79200.00</td>\n",
       "      <td>7.00</td>\n",
       "      <td>12200.00</td>\n",
       "      <td>13.47</td>\n",
       "      <td>0.00</td>\n",
       "      <td>0.23</td>\n",
       "      <td>8.00</td>\n",
       "    </tr>\n",
       "    <tr>\n",
       "      <th>max</th>\n",
       "      <td>144.00</td>\n",
       "      <td>6000000.00</td>\n",
       "      <td>123.00</td>\n",
       "      <td>35000.00</td>\n",
       "      <td>23.22</td>\n",
       "      <td>1.00</td>\n",
       "      <td>0.83</td>\n",
       "      <td>30.00</td>\n",
       "    </tr>\n",
       "  </tbody>\n",
       "</table>\n",
       "</div>"
      ],
      "text/plain": [
       "       person_age  person_income  person_emp_length  loan_amnt  loan_int_rate  \\\n",
       "count    32581.00       32581.00           31686.00   32581.00       29465.00   \n",
       "mean        27.73       66074.85               4.79    9589.37          11.01   \n",
       "std          6.35       61983.12               4.14    6322.09           3.24   \n",
       "min         20.00        4000.00               0.00     500.00           5.42   \n",
       "25%         23.00       38500.00               2.00    5000.00           7.90   \n",
       "50%         26.00       55000.00               4.00    8000.00          10.99   \n",
       "75%         30.00       79200.00               7.00   12200.00          13.47   \n",
       "max        144.00     6000000.00             123.00   35000.00          23.22   \n",
       "\n",
       "       loan_status  loan_percent_income  cb_person_cred_hist_length  \n",
       "count     32581.00             32581.00                    32581.00  \n",
       "mean          0.22                 0.17                        5.80  \n",
       "std           0.41                 0.11                        4.06  \n",
       "min           0.00                 0.00                        2.00  \n",
       "25%           0.00                 0.09                        3.00  \n",
       "50%           0.00                 0.15                        4.00  \n",
       "75%           0.00                 0.23                        8.00  \n",
       "max           1.00                 0.83                       30.00  "
      ]
     },
     "execution_count": 5,
     "metadata": {},
     "output_type": "execute_result"
    }
   ],
   "source": [
    "pd.set_option('display.float_format', lambda x: '%.2f' % x)\n",
    "loans.describe()"
   ]
  },
  {
   "cell_type": "markdown",
   "id": "adc894aa-e182-4102-bf3e-208a925460fc",
   "metadata": {},
   "source": [
    "**Observations:**\n",
    "- person_age and person_emp_length have outlier values (maximum values unrealistic).\n",
    "- Scales differ due to different units (e.g. age vs dollar amount). Rescaling should be considered. "
   ]
  },
  {
   "cell_type": "code",
   "execution_count": 6,
   "id": "1c5b6282-6edf-4689-baa6-29c7dd0527ac",
   "metadata": {},
   "outputs": [
    {
     "name": "stdout",
     "output_type": "stream",
     "text": [
      "0    25473\n",
      "1     7108\n",
      "Name: loan_status, dtype: int64\n",
      "\n",
      "Out of 32581 loans there are 7108 loans that defaulted\n"
     ]
    }
   ],
   "source": [
    "# Analyze dependent variable: loan status\n",
    "print(loans['loan_status'].value_counts())\n",
    "print()\n",
    "default_loans = loans['loan_status'].value_counts()[1]\n",
    "print(f'Out of {len(loans)} loans there are {default_loans} loans that defaulted')"
   ]
  },
  {
   "cell_type": "code",
   "execution_count": 7,
   "id": "08e44812-62a4-498c-b191-0c6b5de3aaeb",
   "metadata": {},
   "outputs": [
    {
     "name": "stdout",
     "output_type": "stream",
     "text": [
      "The default rate is 21.82%.\n"
     ]
    }
   ],
   "source": [
    "# Get default rate\n",
    "default_rate = loans['loan_status'].sum()/len(loans['loan_status']) * 100\n",
    "print(f'The default rate is {default_rate:.2f}%.')"
   ]
  },
  {
   "cell_type": "markdown",
   "id": "1f8cc192-6d6d-4e7a-b8ab-634f2c97339a",
   "metadata": {},
   "source": [
    "**Observations:**\n",
    "- 21.82 % of observations are of class 1 (default) and 78.18 % of class 0 (no default). \n",
    "- Class imbalance may affect model performance and should be addressed. "
   ]
  },
  {
   "cell_type": "markdown",
   "id": "ac6fe6bf-9512-4463-9fd7-978bd2036dfd",
   "metadata": {
    "jp-MarkdownHeadingCollapsed": true,
    "tags": []
   },
   "source": [
    "### Data visualizations"
   ]
  },
  {
   "cell_type": "code",
   "execution_count": 8,
   "id": "f50cd04a-b737-426d-8d90-ea1704804d9f",
   "metadata": {},
   "outputs": [
    {
     "data": {
      "image/png": "[encoded data removed]",
      "text/plain": [
       "<Figure size 800x800 with 7 Axes>"
      ]
     },
     "metadata": {},
     "output_type": "display_data"
    }
   ],
   "source": [
    "# Histograms of continuous variables \n",
    "continuous_variables = loans.select_dtypes('number').drop(['loan_status'],axis=1)\n",
    "plt.figure(figsize=(8,8), layout='constrained')\n",
    "for i in enumerate(continuous_variables):\n",
    "    plt.subplot(3,3,i[0]+1)\n",
    "    plt.hist(loans[i[1]])\n",
    "    plt.title(i[1])\n",
    "\n",
    "plt.show()"
   ]
  },
  {
   "cell_type": "markdown",
   "id": "9bbfcef8-32eb-44ad-b3b7-576d47e7be2a",
   "metadata": {},
   "source": [
    "**Observations:**\n",
    "- Outliers of person_age and person_emp_length are confirmed by histograms. \n",
    "- Seems that person_income also contains outliers. \n",
    "- Other variables are all right-skewed. Removal of skewness may help to improve model performance. "
   ]
  },
  {
   "cell_type": "code",
   "execution_count": 9,
   "id": "7a757b9b-787c-4c37-b68e-ddde2b6d2deb",
   "metadata": {},
   "outputs": [
    {
     "data": {
      "image/png": "[encoded data removed]",
      "text/plain": [
       "<Figure size 800x800 with 2 Axes>"
      ]
     },
     "metadata": {},
     "output_type": "display_data"
    }
   ],
   "source": [
    "# Correlation among continuous features\n",
    "plt.figure(figsize=(8,8))\n",
    "corr_matrix = continuous_variables.corr(numeric_only=True)\n",
    "sns.heatmap(corr_matrix,annot=True, square=True)\n",
    "plt.show()"
   ]
  },
  {
   "cell_type": "code",
   "execution_count": 10,
   "id": "d074bb10-0356-4dca-b2df-83638cbdadfd",
   "metadata": {},
   "outputs": [
    {
     "data": {
      "text/html": [
       "<div>\n",
       "<style scoped>\n",
       "    .dataframe tbody tr th:only-of-type {\n",
       "        vertical-align: middle;\n",
       "    }\n",
       "\n",
       "    .dataframe tbody tr th {\n",
       "        vertical-align: top;\n",
       "    }\n",
       "\n",
       "    .dataframe thead th {\n",
       "        text-align: right;\n",
       "    }\n",
       "</style>\n",
       "<table border=\"1\" class=\"dataframe\">\n",
       "  <thead>\n",
       "    <tr style=\"text-align: right;\">\n",
       "      <th></th>\n",
       "      <th>person_age</th>\n",
       "      <th>person_income</th>\n",
       "      <th>person_emp_length</th>\n",
       "      <th>loan_amnt</th>\n",
       "      <th>loan_int_rate</th>\n",
       "      <th>loan_percent_income</th>\n",
       "      <th>cb_person_cred_hist_length</th>\n",
       "    </tr>\n",
       "  </thead>\n",
       "  <tbody>\n",
       "    <tr>\n",
       "      <th>Coefficient</th>\n",
       "      <td>-0.02</td>\n",
       "      <td>-0.14</td>\n",
       "      <td>-0.08</td>\n",
       "      <td>0.11</td>\n",
       "      <td>0.34</td>\n",
       "      <td>0.38</td>\n",
       "      <td>-0.02</td>\n",
       "    </tr>\n",
       "    <tr>\n",
       "      <th>P-value</th>\n",
       "      <td>0.00</td>\n",
       "      <td>0.00</td>\n",
       "      <td>0.00</td>\n",
       "      <td>0.00</td>\n",
       "      <td>0.00</td>\n",
       "      <td>0.00</td>\n",
       "      <td>0.01</td>\n",
       "    </tr>\n",
       "  </tbody>\n",
       "</table>\n",
       "</div>"
      ],
      "text/plain": [
       "             person_age  person_income  person_emp_length  loan_amnt  \\\n",
       "Coefficient       -0.02          -0.14              -0.08       0.11   \n",
       "P-value            0.00           0.00               0.00       0.00   \n",
       "\n",
       "             loan_int_rate  loan_percent_income  cb_person_cred_hist_length  \n",
       "Coefficient           0.34                 0.38                       -0.02  \n",
       "P-value               0.00                 0.00                        0.01  "
      ]
     },
     "execution_count": 10,
     "metadata": {},
     "output_type": "execute_result"
    }
   ],
   "source": [
    "# Correlation between continuous features and output variable \n",
    "pb_corr = continuous_variables.corrwith(loans['loan_status'],method=pointbiserialr)\n",
    "pb_corr.index = ['Coefficient','P-value']\n",
    "pb_corr"
   ]
  },
  {
   "cell_type": "markdown",
   "id": "f5577da8-a486-409d-9ea3-8e1c537a9a6d",
   "metadata": {},
   "source": [
    "**Observations:**\n",
    "- Correlation between input variables is low except for a moderate correlation between loan_amnt and loan_percent_income. Multicollinearity should not be an issue. \n",
    "- Correlation between binary output and continuous variables are very low, except for moderate correlation with loan_int_rate and loan_percent_income. This does make sense as the risk of default is higher the higher the interest rate and the loan amount relative to a person's income. Note that all coefficients are statistically significant (at 1% level).\n",
    "- Low correlation might suggest that linear models will be outperformed by non-linear models. "
   ]
  },
  {
   "cell_type": "markdown",
   "id": "75289240-e9f9-4f0a-a50f-85aee64f8525",
   "metadata": {
    "tags": []
   },
   "source": [
    "## Data pre-processing"
   ]
  },
  {
   "cell_type": "markdown",
   "id": "d74afe67-8761-4367-88fd-f6d27d7d7b60",
   "metadata": {
    "jp-MarkdownHeadingCollapsed": true,
    "tags": []
   },
   "source": [
    "### Outliers"
   ]
  },
  {
   "cell_type": "code",
   "execution_count": 11,
   "id": "40562c0d-a614-458a-82cc-ee5603de621f",
   "metadata": {},
   "outputs": [
    {
     "name": "stdout",
     "output_type": "stream",
     "text": [
      "81       144\n",
      "183      144\n",
      "575      123\n",
      "747      123\n",
      "32297    144\n",
      "32416     94\n",
      "Name: person_age, dtype: int64\n"
     ]
    }
   ],
   "source": [
    "# Inspect outliers of person_age\n",
    "print(loans.loc[loans['person_age'] > 90, 'person_age'])"
   ]
  },
  {
   "cell_type": "markdown",
   "id": "d5fef8a4-eb6f-4a2a-9bb7-4b7deb20c65f",
   "metadata": {},
   "source": [
    "The ages of 123 and 144 are considered unrealistic. These observations will be dropped."
   ]
  },
  {
   "cell_type": "code",
   "execution_count": 12,
   "id": "e79ee2fb-da1a-4256-ab14-b8e08657c693",
   "metadata": {},
   "outputs": [],
   "source": [
    "# Drop outliers of person_age\n",
    "loans.drop(loans[loans['person_age'] > 100].index,inplace=True)"
   ]
  },
  {
   "cell_type": "code",
   "execution_count": 13,
   "id": "8dc22374-a2fe-462e-8e8a-eb794be4df64",
   "metadata": {},
   "outputs": [
    {
     "name": "stdout",
     "output_type": "stream",
     "text": [
      "0       123.00\n",
      "210     123.00\n",
      "32355    41.00\n",
      "Name: person_emp_length, dtype: float64\n"
     ]
    }
   ],
   "source": [
    "# Inspect outliers of person_emp_length\n",
    "print(loans.loc[loans['person_emp_length'] > 40, 'person_emp_length'])"
   ]
  },
  {
   "cell_type": "markdown",
   "id": "2425bc37-89ef-4162-8014-59fee645fbfb",
   "metadata": {},
   "source": [
    "Employment lenghts of 123 are considered unrealistic and will be dropped. "
   ]
  },
  {
   "cell_type": "code",
   "execution_count": 14,
   "id": "5f96fdb2-cca5-43b8-a382-dadde0fc08de",
   "metadata": {},
   "outputs": [],
   "source": [
    "# Drop outliers of person_emp_length\n",
    "loans.drop(loans[loans['person_emp_length'] > 100].index,inplace=True)"
   ]
  },
  {
   "cell_type": "markdown",
   "id": "65a984fb-0e45-42c8-a87b-69a282edd243",
   "metadata": {
    "jp-MarkdownHeadingCollapsed": true,
    "tags": []
   },
   "source": [
    "### Missing values"
   ]
  },
  {
   "cell_type": "code",
   "execution_count": 15,
   "id": "962926a7-f3c1-4f89-b461-2455015a71d8",
   "metadata": {},
   "outputs": [
    {
     "data": {
      "text/plain": [
       "person_age                       0\n",
       "person_income                    0\n",
       "person_home_ownership            0\n",
       "person_emp_length              895\n",
       "loan_intent                      0\n",
       "loan_grade                       0\n",
       "loan_amnt                        0\n",
       "loan_int_rate                 3115\n",
       "loan_status                      0\n",
       "loan_percent_income              0\n",
       "cb_person_default_on_file        0\n",
       "cb_person_cred_hist_length       0\n",
       "dtype: int64"
      ]
     },
     "execution_count": 15,
     "metadata": {},
     "output_type": "execute_result"
    }
   ],
   "source": [
    "loans.isna().sum()"
   ]
  },
  {
   "cell_type": "code",
   "execution_count": 16,
   "id": "d88e5649-9603-4075-a8cf-30222d4c5358",
   "metadata": {},
   "outputs": [
    {
     "data": {
      "text/html": [
       "<div>\n",
       "<style scoped>\n",
       "    .dataframe tbody tr th:only-of-type {\n",
       "        vertical-align: middle;\n",
       "    }\n",
       "\n",
       "    .dataframe tbody tr th {\n",
       "        vertical-align: top;\n",
       "    }\n",
       "\n",
       "    .dataframe thead th {\n",
       "        text-align: right;\n",
       "    }\n",
       "</style>\n",
       "<table border=\"1\" class=\"dataframe\">\n",
       "  <thead>\n",
       "    <tr style=\"text-align: right;\">\n",
       "      <th></th>\n",
       "      <th>person_age</th>\n",
       "      <th>person_emp_length</th>\n",
       "      <th>loan_int_rate</th>\n",
       "    </tr>\n",
       "  </thead>\n",
       "  <tbody>\n",
       "    <tr>\n",
       "      <th>count</th>\n",
       "      <td>32574.00</td>\n",
       "      <td>31679.00</td>\n",
       "      <td>29459.00</td>\n",
       "    </tr>\n",
       "    <tr>\n",
       "      <th>mean</th>\n",
       "      <td>27.72</td>\n",
       "      <td>4.78</td>\n",
       "      <td>11.01</td>\n",
       "    </tr>\n",
       "    <tr>\n",
       "      <th>std</th>\n",
       "      <td>6.20</td>\n",
       "      <td>4.03</td>\n",
       "      <td>3.24</td>\n",
       "    </tr>\n",
       "    <tr>\n",
       "      <th>min</th>\n",
       "      <td>20.00</td>\n",
       "      <td>0.00</td>\n",
       "      <td>5.42</td>\n",
       "    </tr>\n",
       "    <tr>\n",
       "      <th>25%</th>\n",
       "      <td>23.00</td>\n",
       "      <td>2.00</td>\n",
       "      <td>7.90</td>\n",
       "    </tr>\n",
       "    <tr>\n",
       "      <th>50%</th>\n",
       "      <td>26.00</td>\n",
       "      <td>4.00</td>\n",
       "      <td>10.99</td>\n",
       "    </tr>\n",
       "    <tr>\n",
       "      <th>75%</th>\n",
       "      <td>30.00</td>\n",
       "      <td>7.00</td>\n",
       "      <td>13.47</td>\n",
       "    </tr>\n",
       "    <tr>\n",
       "      <th>max</th>\n",
       "      <td>94.00</td>\n",
       "      <td>41.00</td>\n",
       "      <td>23.22</td>\n",
       "    </tr>\n",
       "  </tbody>\n",
       "</table>\n",
       "</div>"
      ],
      "text/plain": [
       "       person_age  person_emp_length  loan_int_rate\n",
       "count    32574.00           31679.00       29459.00\n",
       "mean        27.72               4.78          11.01\n",
       "std          6.20               4.03           3.24\n",
       "min         20.00               0.00           5.42\n",
       "25%         23.00               2.00           7.90\n",
       "50%         26.00               4.00          10.99\n",
       "75%         30.00               7.00          13.47\n",
       "max         94.00              41.00          23.22"
      ]
     },
     "execution_count": 16,
     "metadata": {},
     "output_type": "execute_result"
    }
   ],
   "source": [
    "loans[['person_age','person_emp_length','loan_int_rate']].describe()"
   ]
  },
  {
   "cell_type": "markdown",
   "id": "a870235b-f395-4e2c-bb7f-b04e5598bca8",
   "metadata": {},
   "source": [
    "**Observations:**\n",
    "- Data imputation will be used to fill missing values. \n",
    "- Considering that 75% of respondents are below 30 years old, mean estimates of employment length and interest rate do seem reasonable to use for imputation.\n",
    "- Data imputation will be incorporated after train-test split to avoid data leakage. "
   ]
  },
  {
   "cell_type": "markdown",
   "id": "630d43bb-de44-4dda-a00e-b0a887051e51",
   "metadata": {
    "jp-MarkdownHeadingCollapsed": true,
    "tags": []
   },
   "source": [
    "### Ecoding categorical variables "
   ]
  },
  {
   "cell_type": "markdown",
   "id": "e5f27fbb-c650-478f-a618-afe85baf9324",
   "metadata": {},
   "source": [
    "Each categorical variable with C = number of classes will be encoded in C-1 binary variables. This encoding is used to avoid that the input matrix becomes singular and thus cannot be inverted, which would imply that model coefficients cannot be efficiently calculated when using models such as logistic regression. "
   ]
  },
  {
   "cell_type": "code",
   "execution_count": 17,
   "id": "b54506e0-838f-44b0-bacf-d9df785e3ede",
   "metadata": {},
   "outputs": [
    {
     "data": {
      "text/html": [
       "<div>\n",
       "<style scoped>\n",
       "    .dataframe tbody tr th:only-of-type {\n",
       "        vertical-align: middle;\n",
       "    }\n",
       "\n",
       "    .dataframe tbody tr th {\n",
       "        vertical-align: top;\n",
       "    }\n",
       "\n",
       "    .dataframe thead th {\n",
       "        text-align: right;\n",
       "    }\n",
       "</style>\n",
       "<table border=\"1\" class=\"dataframe\">\n",
       "  <thead>\n",
       "    <tr style=\"text-align: right;\">\n",
       "      <th></th>\n",
       "      <th>1</th>\n",
       "      <th>2</th>\n",
       "      <th>3</th>\n",
       "      <th>4</th>\n",
       "      <th>5</th>\n",
       "    </tr>\n",
       "  </thead>\n",
       "  <tbody>\n",
       "    <tr>\n",
       "      <th>person_age</th>\n",
       "      <td>21.00</td>\n",
       "      <td>25.00</td>\n",
       "      <td>23.00</td>\n",
       "      <td>24.00</td>\n",
       "      <td>21.00</td>\n",
       "    </tr>\n",
       "    <tr>\n",
       "      <th>person_income</th>\n",
       "      <td>9600.00</td>\n",
       "      <td>9600.00</td>\n",
       "      <td>65500.00</td>\n",
       "      <td>54400.00</td>\n",
       "      <td>9900.00</td>\n",
       "    </tr>\n",
       "    <tr>\n",
       "      <th>person_emp_length</th>\n",
       "      <td>5.00</td>\n",
       "      <td>1.00</td>\n",
       "      <td>4.00</td>\n",
       "      <td>8.00</td>\n",
       "      <td>2.00</td>\n",
       "    </tr>\n",
       "    <tr>\n",
       "      <th>loan_amnt</th>\n",
       "      <td>1000.00</td>\n",
       "      <td>5500.00</td>\n",
       "      <td>35000.00</td>\n",
       "      <td>35000.00</td>\n",
       "      <td>2500.00</td>\n",
       "    </tr>\n",
       "    <tr>\n",
       "      <th>loan_int_rate</th>\n",
       "      <td>11.14</td>\n",
       "      <td>12.87</td>\n",
       "      <td>15.23</td>\n",
       "      <td>14.27</td>\n",
       "      <td>7.14</td>\n",
       "    </tr>\n",
       "    <tr>\n",
       "      <th>loan_status</th>\n",
       "      <td>0.00</td>\n",
       "      <td>1.00</td>\n",
       "      <td>1.00</td>\n",
       "      <td>1.00</td>\n",
       "      <td>1.00</td>\n",
       "    </tr>\n",
       "    <tr>\n",
       "      <th>loan_percent_income</th>\n",
       "      <td>0.10</td>\n",
       "      <td>0.57</td>\n",
       "      <td>0.53</td>\n",
       "      <td>0.55</td>\n",
       "      <td>0.25</td>\n",
       "    </tr>\n",
       "    <tr>\n",
       "      <th>cb_person_cred_hist_length</th>\n",
       "      <td>2.00</td>\n",
       "      <td>3.00</td>\n",
       "      <td>2.00</td>\n",
       "      <td>4.00</td>\n",
       "      <td>2.00</td>\n",
       "    </tr>\n",
       "    <tr>\n",
       "      <th>person_home_ownership_OTHER</th>\n",
       "      <td>0.00</td>\n",
       "      <td>0.00</td>\n",
       "      <td>0.00</td>\n",
       "      <td>0.00</td>\n",
       "      <td>0.00</td>\n",
       "    </tr>\n",
       "    <tr>\n",
       "      <th>person_home_ownership_OWN</th>\n",
       "      <td>1.00</td>\n",
       "      <td>0.00</td>\n",
       "      <td>0.00</td>\n",
       "      <td>0.00</td>\n",
       "      <td>1.00</td>\n",
       "    </tr>\n",
       "    <tr>\n",
       "      <th>person_home_ownership_RENT</th>\n",
       "      <td>0.00</td>\n",
       "      <td>0.00</td>\n",
       "      <td>1.00</td>\n",
       "      <td>1.00</td>\n",
       "      <td>0.00</td>\n",
       "    </tr>\n",
       "    <tr>\n",
       "      <th>loan_intent_EDUCATION</th>\n",
       "      <td>1.00</td>\n",
       "      <td>0.00</td>\n",
       "      <td>0.00</td>\n",
       "      <td>0.00</td>\n",
       "      <td>0.00</td>\n",
       "    </tr>\n",
       "    <tr>\n",
       "      <th>loan_intent_HOMEIMPROVEMENT</th>\n",
       "      <td>0.00</td>\n",
       "      <td>0.00</td>\n",
       "      <td>0.00</td>\n",
       "      <td>0.00</td>\n",
       "      <td>0.00</td>\n",
       "    </tr>\n",
       "    <tr>\n",
       "      <th>loan_intent_MEDICAL</th>\n",
       "      <td>0.00</td>\n",
       "      <td>1.00</td>\n",
       "      <td>1.00</td>\n",
       "      <td>1.00</td>\n",
       "      <td>0.00</td>\n",
       "    </tr>\n",
       "    <tr>\n",
       "      <th>loan_intent_PERSONAL</th>\n",
       "      <td>0.00</td>\n",
       "      <td>0.00</td>\n",
       "      <td>0.00</td>\n",
       "      <td>0.00</td>\n",
       "      <td>0.00</td>\n",
       "    </tr>\n",
       "    <tr>\n",
       "      <th>loan_intent_VENTURE</th>\n",
       "      <td>0.00</td>\n",
       "      <td>0.00</td>\n",
       "      <td>0.00</td>\n",
       "      <td>0.00</td>\n",
       "      <td>1.00</td>\n",
       "    </tr>\n",
       "    <tr>\n",
       "      <th>loan_grade_B</th>\n",
       "      <td>1.00</td>\n",
       "      <td>0.00</td>\n",
       "      <td>0.00</td>\n",
       "      <td>0.00</td>\n",
       "      <td>0.00</td>\n",
       "    </tr>\n",
       "    <tr>\n",
       "      <th>loan_grade_C</th>\n",
       "      <td>0.00</td>\n",
       "      <td>1.00</td>\n",
       "      <td>1.00</td>\n",
       "      <td>1.00</td>\n",
       "      <td>0.00</td>\n",
       "    </tr>\n",
       "    <tr>\n",
       "      <th>loan_grade_D</th>\n",
       "      <td>0.00</td>\n",
       "      <td>0.00</td>\n",
       "      <td>0.00</td>\n",
       "      <td>0.00</td>\n",
       "      <td>0.00</td>\n",
       "    </tr>\n",
       "    <tr>\n",
       "      <th>loan_grade_E</th>\n",
       "      <td>0.00</td>\n",
       "      <td>0.00</td>\n",
       "      <td>0.00</td>\n",
       "      <td>0.00</td>\n",
       "      <td>0.00</td>\n",
       "    </tr>\n",
       "    <tr>\n",
       "      <th>loan_grade_F</th>\n",
       "      <td>0.00</td>\n",
       "      <td>0.00</td>\n",
       "      <td>0.00</td>\n",
       "      <td>0.00</td>\n",
       "      <td>0.00</td>\n",
       "    </tr>\n",
       "    <tr>\n",
       "      <th>loan_grade_G</th>\n",
       "      <td>0.00</td>\n",
       "      <td>0.00</td>\n",
       "      <td>0.00</td>\n",
       "      <td>0.00</td>\n",
       "      <td>0.00</td>\n",
       "    </tr>\n",
       "    <tr>\n",
       "      <th>cb_person_default_on_file_Y</th>\n",
       "      <td>0.00</td>\n",
       "      <td>0.00</td>\n",
       "      <td>0.00</td>\n",
       "      <td>1.00</td>\n",
       "      <td>0.00</td>\n",
       "    </tr>\n",
       "  </tbody>\n",
       "</table>\n",
       "</div>"
      ],
      "text/plain": [
       "                                  1       2        3        4       5\n",
       "person_age                    21.00   25.00    23.00    24.00   21.00\n",
       "person_income               9600.00 9600.00 65500.00 54400.00 9900.00\n",
       "person_emp_length              5.00    1.00     4.00     8.00    2.00\n",
       "loan_amnt                   1000.00 5500.00 35000.00 35000.00 2500.00\n",
       "loan_int_rate                 11.14   12.87    15.23    14.27    7.14\n",
       "loan_status                    0.00    1.00     1.00     1.00    1.00\n",
       "loan_percent_income            0.10    0.57     0.53     0.55    0.25\n",
       "cb_person_cred_hist_length     2.00    3.00     2.00     4.00    2.00\n",
       "person_home_ownership_OTHER    0.00    0.00     0.00     0.00    0.00\n",
       "person_home_ownership_OWN      1.00    0.00     0.00     0.00    1.00\n",
       "person_home_ownership_RENT     0.00    0.00     1.00     1.00    0.00\n",
       "loan_intent_EDUCATION          1.00    0.00     0.00     0.00    0.00\n",
       "loan_intent_HOMEIMPROVEMENT    0.00    0.00     0.00     0.00    0.00\n",
       "loan_intent_MEDICAL            0.00    1.00     1.00     1.00    0.00\n",
       "loan_intent_PERSONAL           0.00    0.00     0.00     0.00    0.00\n",
       "loan_intent_VENTURE            0.00    0.00     0.00     0.00    1.00\n",
       "loan_grade_B                   1.00    0.00     0.00     0.00    0.00\n",
       "loan_grade_C                   0.00    1.00     1.00     1.00    0.00\n",
       "loan_grade_D                   0.00    0.00     0.00     0.00    0.00\n",
       "loan_grade_E                   0.00    0.00     0.00     0.00    0.00\n",
       "loan_grade_F                   0.00    0.00     0.00     0.00    0.00\n",
       "loan_grade_G                   0.00    0.00     0.00     0.00    0.00\n",
       "cb_person_default_on_file_Y    0.00    0.00     0.00     1.00    0.00"
      ]
     },
     "execution_count": 17,
     "metadata": {},
     "output_type": "execute_result"
    }
   ],
   "source": [
    "# Extract categorical variables and apply C-1 one hot encoding\n",
    "to_encode = X = loans.drop('loan_status',axis=1).select_dtypes('object').columns\n",
    "encoded_df = pd.get_dummies(loans, columns= to_encode,drop_first=True)\n",
    "encoded_df.head().T"
   ]
  },
  {
   "cell_type": "markdown",
   "id": "544e5005-3619-4382-a2a8-48114806e053",
   "metadata": {},
   "source": [
    "The features set only contains numerical data and is now ready for modeling. "
   ]
  },
  {
   "cell_type": "markdown",
   "id": "c731643b-7dbd-46b6-b15a-31e1afc4377f",
   "metadata": {
    "tags": []
   },
   "source": [
    "## Model evaluation"
   ]
  },
  {
   "cell_type": "markdown",
   "id": "fcffdc72-80c3-46b5-b90b-1093989bdf4f",
   "metadata": {},
   "source": [
    "Similar as in (Kuhn & Johnson, 2013), the data will be split in 3 parts:\n",
    "- Training set (70%): Train models and find optimal parameters. \n",
    "- Evaluation set (10%): Post-processing, e.g data transformation, selecting cutoff rate. \n",
    "- Test set (20%): Evaluation of final model.  \n",
    "\n",
    "Stratified sampling is used to split the data and ensure that each set has the same class partition for the output variable."
   ]
  },
  {
   "cell_type": "code",
   "execution_count": 18,
   "id": "d7ca1c7b-5a01-403c-a157-f6b7a2c8582c",
   "metadata": {},
   "outputs": [],
   "source": [
    "# Split data into 70 % for training and 30% for evaluation and testing \n",
    "train = encoded_df.groupby('loan_status', group_keys=False).apply(lambda x: x.sample(frac=0.7, random_state=0))\n",
    "other = encoded_df[~encoded_df.index.isin(train.index)]"
   ]
  },
  {
   "cell_type": "code",
   "execution_count": 19,
   "id": "51d30546-0b66-4bb1-8789-10c6f6dac270",
   "metadata": {},
   "outputs": [],
   "source": [
    "# Split remaining data into 1/3 evaluation set (overall 10%) and 2/3 test set (overall 20%)\n",
    "evaluation = other.groupby('loan_status', group_keys=False).apply(lambda x: x.sample(frac=1/3, random_state=0))\n",
    "test = other[~other.index.isin(evaluation.index)]"
   ]
  },
  {
   "cell_type": "code",
   "execution_count": 20,
   "id": "690d6186-20cd-4c9b-abb8-3f0f0f56a3e7",
   "metadata": {},
   "outputs": [
    {
     "name": "stdout",
     "output_type": "stream",
     "text": [
      "Train set length: 70.0 %\n",
      "Evaluation set length: 10.0 %\n",
      "Test set length: 20.0 %\n"
     ]
    }
   ],
   "source": [
    "# Verify set length \n",
    "print(f'Train set length: {round(len(train)/len(encoded_df) * 100,2)} %')\n",
    "print(f'Evaluation set length: {round(len(evaluation)/len(encoded_df) * 100,2)} %')\n",
    "print(f'Test set length: {round(len(test)/len(encoded_df),2) * 100} %')"
   ]
  },
  {
   "cell_type": "code",
   "execution_count": 21,
   "id": "3dd3ba44-171d-4a10-863e-f485a114e372",
   "metadata": {},
   "outputs": [
    {
     "name": "stdout",
     "output_type": "stream",
     "text": [
      "0   0.78\n",
      "1   0.22\n",
      "Name: loan_status, dtype: float64\n",
      "0   0.78\n",
      "1   0.22\n",
      "Name: loan_status, dtype: float64\n",
      "0   0.78\n",
      "1   0.22\n",
      "Name: loan_status, dtype: float64\n"
     ]
    }
   ],
   "source": [
    "# Verify equal class partitions among sets \n",
    "print(train['loan_status'].value_counts(normalize=True))\n",
    "print(evaluation['loan_status'].value_counts(normalize=True))\n",
    "print(test['loan_status'].value_counts(normalize=True))"
   ]
  },
  {
   "cell_type": "code",
   "execution_count": 22,
   "id": "d1eaea43-204f-4c72-9a04-97e76b64a22b",
   "metadata": {},
   "outputs": [],
   "source": [
    "# Split each set into feature and output subsets\n",
    "x_train = train.drop('loan_status', axis=1)\n",
    "y_train = train['loan_status']\n",
    "x_evaluation = evaluation.drop('loan_status', axis=1)\n",
    "y_evaluation = evaluation['loan_status']\n",
    "x_test = test.drop('loan_status', axis=1)\n",
    "y_test = test['loan_status']"
   ]
  },
  {
   "cell_type": "code",
   "execution_count": 23,
   "id": "c9734af7-7dd4-4bc7-8898-cf7e0b78a517",
   "metadata": {},
   "outputs": [],
   "source": [
    "# Define functions to fit and evaluate models on evaluation and test sets + to get optimal classficiation thresholds from evaluation set to use on test set \n",
    "\n",
    "def optimal_cutoff(y_test,y_prob):\n",
    "    \"\"\"Get probability threshold used to seperate classes that maximizes f-score in classification problem.\n",
    "    \n",
    "    Parameters\n",
    "    ----------\n",
    "    y_test : array_like\n",
    "        Test set containing target variable. \n",
    "    y_prob : array_like\n",
    "        Array containing predicted probabilities for target class after training. \n",
    "    \n",
    "    Returns\n",
    "    ----------\n",
    "    float\n",
    "        Threshold that allows to maximize f-score when predicting discrete target variable. \n",
    "    \"\"\"\n",
    "    \n",
    "    precision,recall,thresholds = precision_recall_curve(y_test,y_prob[:,1])\n",
    "    f_score = (2 * precision * recall) / (precision + recall)\n",
    "    best_ix = np.argmax(f_score)\n",
    "    return thresholds[best_ix]\n",
    "\n",
    "def evaluate_model(x_train,y_train,x_test,y_test,pipeline,list_=None,optimal_threshold=False, threshold=None):\n",
    "    \"\"\"Use pipeline to fit model on training set, predict test set target variable and print classification performance metrics.\n",
    "    \n",
    "    Parameters\n",
    "    ----------\n",
    "    x_train : array_like \n",
    "        Training set containing features. \n",
    "    y_train : array_like\n",
    "        Training set containing target variable. \n",
    "    x_test : array_like \n",
    "        Test set containing features. \n",
    "    y_test : array_like\n",
    "        Test set containing target variable. \n",
    "    pipeline : list \n",
    "        List of (name, pipeline) tuples. \n",
    "    list_ : list, default=None\n",
    "        Optional list to append predicted probabilities. Useful to optimize cutoff thesholds after training on evaluation set. \n",
    "    optimal_threshold : bool, default=False\n",
    "        Determine if default cutoff value is used (0.5) or if specific threshold is used to make class predictions. \n",
    "    threshold : float, default=None\n",
    "        When optimal_threshold = TRUE, threshold to use to make class predictions (default=None).\n",
    "    \n",
    "    Returns\n",
    "    ----------\n",
    "    None\n",
    "    \"\"\"\n",
    "        \n",
    "    for name, model in pipeline:\n",
    "\n",
    "        model.fit(x_train,y_train)\n",
    "        y_prob = model.predict_proba(x_test)\n",
    "        \n",
    "        if optimal_threshold:\n",
    "            y_pred = (y_prob[:,1] >= threshold[name]).astype(int)\n",
    "            \n",
    "        else:\n",
    "            y_pred = model.predict(x_test)\n",
    "            \n",
    "        tn, fp, fn, tp = confusion_matrix(y_test, y_pred).ravel()\n",
    "        roc_auc = roc_auc_score(y_test,y_prob[:,1])\n",
    "        pr_auc = average_precision_score(y_test,y_prob[:,1])\n",
    "        sensitivity = recall_score(y_test,y_pred)\n",
    "        precision = tp/(tp+fp)\n",
    "        specificity = tn/(tn+fp)\n",
    "        f_score = (2 * precision * sensitivity) / (precision + sensitivity)\n",
    "        if list_ != None:\n",
    "            list_.append(y_prob)\n",
    "        print(f'ROC AUC {name}: {roc_auc}')\n",
    "        print(f'PR AUC {name}: {pr_auc}')\n",
    "        print(f'F-score {name}: {f_score}')\n",
    "        print(f'Sensitivity {name}: {sensitivity}')\n",
    "        print(f'Precision {name}: {precision}')\n",
    "        print(f'Specificity {name}: {specificity}')\n",
    "        print('-------------------------------------------------------------')\n"
   ]
  },
  {
   "cell_type": "markdown",
   "id": "e7fda5c2-ccbe-436d-8101-2bdc71863e80",
   "metadata": {
    "tags": []
   },
   "source": [
    "### Baseline model"
   ]
  },
  {
   "cell_type": "code",
   "execution_count": 24,
   "id": "b08ec7e5-1b30-4ace-80f9-83763d3a385b",
   "metadata": {},
   "outputs": [
    {
     "name": "stdout",
     "output_type": "stream",
     "text": [
      "ROC AUC Logistic Regression: 0.6806120876881712\n",
      "PR AUC Logistic Regression: 0.3580655078899229\n",
      "F-score Logistic Regression: 0.5\n",
      "Sensitivity Logistic Regression: 0.5049226441631505\n",
      "Precision Logistic Regression: 0.49517241379310345\n",
      "Specificity Logistic Regression: 0.856301531213192\n",
      "-------------------------------------------------------------\n",
      "ROC AUC LDA: 0.8580415336539445\n",
      "PR AUC LDA: 0.6969861320047077\n",
      "F-score LDA: 0.6494522691705791\n",
      "Sensitivity LDA: 0.5836849507735584\n",
      "Precision LDA: 0.7319223985890653\n",
      "Specificity LDA: 0.9403219473890851\n",
      "-------------------------------------------------------------\n",
      "ROC AUC CART: 0.8382932514300766\n",
      "PR AUC CART: 0.6017445808940662\n",
      "F-score CART: 0.7405368203716448\n",
      "Sensitivity CART: 0.7566807313642757\n",
      "Precision CART: 0.7250673854447439\n",
      "Specificity CART: 0.9199057714958775\n",
      "-------------------------------------------------------------\n"
     ]
    }
   ],
   "source": [
    "# Get performance of baseline model on evaluation set\n",
    "base_pipelines = []\n",
    "transformers=[('mv',SimpleImputer(strategy='mean'),['person_emp_length','loan_int_rate'])]\n",
    "\n",
    "transform = ColumnTransformer(transformers=transformers, remainder='passthrough')\n",
    "base_pipelines.append(('Logistic Regression', Pipeline(steps=[('prep',transform), ('LR',SGDClassifier(loss='log_loss',random_state=1))])))\n",
    "base_pipelines.append(('LDA', Pipeline(steps=[('prep',transform), ('LDA', LinearDiscriminantAnalysis())])))\n",
    "base_pipelines.append(('CART', Pipeline(steps=[('prep',transform), ('CART', DecisionTreeClassifier(random_state=1))])))\n",
    "\n",
    "evaluate_model(x_train,y_train,x_evaluation,y_evaluation,base_pipelines)\n"
   ]
  },
  {
   "cell_type": "markdown",
   "id": "af7872eb-4747-4124-83bd-fe52d75a28bb",
   "metadata": {},
   "source": [
    "**Observations:**\n",
    "- For all 3 models, effect of class imbalance is visible as models perform well for non-default clients (class 0) and less good for default clients (class 1). \n",
    "- Logistic regression suffers most from class imbalance. \n",
    "- LDA is the best model independent from probability thresholds (AUC Score) and is the best predictor for the majority class. \n",
    "- Decision tree is most accurate model for minority class. "
   ]
  },
  {
   "cell_type": "code",
   "execution_count": 48,
   "id": "eab99051-ac21-4ecc-98ed-2dc7999919e4",
   "metadata": {},
   "outputs": [
    {
     "name": "stdout",
     "output_type": "stream",
     "text": [
      "ROC AUC Logistic Regression: 0.6738782501903718\n",
      "PR AUC Logistic Regression: 0.3484859898382224\n",
      "F-score Logistic Regression: 0.48896551724137927\n",
      "Sensitivity Logistic Regression: 0.4989444053483462\n",
      "Precision Logistic Regression: 0.4793779580797836\n",
      "Specificity Logistic Regression: 0.8488120950323974\n",
      "-------------------------------------------------------------\n",
      "ROC AUC LDA: 0.8623736433373731\n",
      "PR AUC LDA: 0.706735985306986\n",
      "F-score LDA: 0.6447524752475247\n",
      "Sensitivity LDA: 0.5728360309641097\n",
      "Precision LDA: 0.7373188405797102\n",
      "Specificity LDA: 0.9430591007264874\n",
      "-------------------------------------------------------------\n",
      "ROC AUC CART: 0.8496392849508639\n",
      "PR AUC CART: 0.6198351281183855\n",
      "F-score CART: 0.7555555555555554\n",
      "Sensitivity CART: 0.7776213933849402\n",
      "Precision CART: 0.7347074468085106\n",
      "Specificity CART: 0.9216571765167878\n",
      "-------------------------------------------------------------\n"
     ]
    }
   ],
   "source": [
    "# Get baseline performance on test set \n",
    "evaluate_model(x_train,y_train,x_test,y_test,base_pipelines)"
   ]
  },
  {
   "cell_type": "markdown",
   "id": "d09efeb8-d207-46ad-b407-2ff163af920d",
   "metadata": {},
   "source": [
    "**Observations:**\n",
    "- Effect of class imbalance confirmed on test set: All models show limited minority class performance and a significantly higher majority class accuracy. \n",
    "- LDA remains best performing model for default predictions, irrespective of cutoff rates. \n",
    "- For default thresholds, decision tree shows best F-score. "
   ]
  },
  {
   "cell_type": "markdown",
   "id": "712d241f-989b-4032-8609-25bcc3b352c4",
   "metadata": {
    "tags": []
   },
   "source": [
    "### Models with data transforms"
   ]
  },
  {
   "cell_type": "markdown",
   "id": "1b39d19e-abb6-4406-bb04-1591426f43f7",
   "metadata": {},
   "source": [
    "As suggested in the data exploration step, it might be beneficial to standardize and to remove skewness from input variables. It is expected that Logistic regression and LDA benefit from data transforms. "
   ]
  },
  {
   "cell_type": "code",
   "execution_count": 25,
   "id": "02e32c55-d62d-4010-9878-0b9cc72e3e60",
   "metadata": {},
   "outputs": [
    {
     "name": "stdout",
     "output_type": "stream",
     "text": [
      "ROC AUC Logistic Regression: 0.8599212443198667\n",
      "PR AUC Logistic Regression: 0.7020068220417406\n",
      "F-score Logistic Regression: 0.6127167630057804\n",
      "Sensitivity Logistic Regression: 0.5218002812939522\n",
      "Precision Logistic Regression: 0.742\n",
      "Specificity Logistic Regression: 0.9493521790341578\n",
      "-------------------------------------------------------------\n",
      "ROC AUC LDA: 0.8560303978592062\n",
      "PR AUC LDA: 0.683827930587558\n",
      "F-score LDA: 0.6017988552739166\n",
      "Sensitivity LDA: 0.5175808720112518\n",
      "Precision LDA: 0.71875\n",
      "Specificity LDA: 0.9434628975265018\n",
      "-------------------------------------------------------------\n",
      "ROC AUC CART: 0.8400923399581538\n",
      "PR AUC CART: 0.6052174308082163\n",
      "F-score CART: 0.743289745354439\n",
      "Sensitivity CART: 0.759493670886076\n",
      "Precision CART: 0.7277628032345014\n",
      "Specificity CART: 0.9206910090302316\n",
      "-------------------------------------------------------------\n"
     ]
    }
   ],
   "source": [
    "# Test data transforms (scaling + removing skewness) on evaluation set \n",
    "transform_pipelines = []\n",
    "\n",
    "transformers=[\n",
    "        (\n",
    "            'Multi_transform1',\n",
    "            Pipeline([\n",
    "                ('SimpleImputer',SimpleImputer(strategy='mean')),\n",
    "                ('Scaler1',MinMaxScaler()),\n",
    "                ('Power1',PowerTransformer(method='yeo-johnson'))]),\n",
    "                ['person_emp_length','loan_int_rate']),\n",
    "        (\n",
    "            'Multi_transform2',\n",
    "            Pipeline([\n",
    "                ('Scaler2',MinMaxScaler()),\n",
    "                ('Power2',PowerTransformer(method='yeo-johnson'))\n",
    "            ]),\n",
    "                ['person_age','person_income','loan_amnt']),\n",
    "        (\n",
    "            'Single_tranform',\n",
    "            PowerTransformer(method='yeo-johnson'), ['loan_percent_income'])\n",
    "    \n",
    "            ]\n",
    "\n",
    "transform = ColumnTransformer(transformers=transformers, remainder='passthrough')\n",
    "transform_pipelines.append(('Logistic Regression', Pipeline(steps=[('prep',transform), ('LR',SGDClassifier(loss='log_loss',random_state=1))])))\n",
    "transform_pipelines.append(('LDA', Pipeline(steps=[('prep',transform), ('LDA', LinearDiscriminantAnalysis())])))\n",
    "transform_pipelines.append(('CART', Pipeline(steps=[('prep',transform), ('CART', DecisionTreeClassifier(random_state=1))])))\n",
    "\n",
    "evaluate_model(x_train,y_train,x_evaluation,y_evaluation,transform_pipelines)"
   ]
  },
  {
   "cell_type": "markdown",
   "id": "febc4f77-399d-46cc-9961-b2d2e4bb8c0b",
   "metadata": {},
   "source": [
    "**Observations:** \n",
    "- Logistic Regression highly benefits from transforms with an increase in minority and majority class accuracies. It even becomes best performing model in overall default predictions.  \n",
    "- LDA does not show improvement in minority or majority class predictions. \n",
    "- As expected, decision tree is not affected by data transforms. "
   ]
  },
  {
   "cell_type": "code",
   "execution_count": 26,
   "id": "e9d8bdf4-c7dd-4493-9d69-d762cf6243f1",
   "metadata": {},
   "outputs": [
    {
     "name": "stdout",
     "output_type": "stream",
     "text": [
      "ROC AUC Logistic Regression: 0.8609016556648726\n",
      "PR AUC Logistic Regression: 0.70135064195579\n",
      "F-score Logistic Regression: 0.6182418489475856\n",
      "Sensitivity Logistic Regression: 0.5270935960591133\n",
      "Precision Logistic Regression: 0.7475049900199601\n",
      "Specificity Logistic Regression: 0.9503239740820735\n",
      "-------------------------------------------------------------\n",
      "ROC AUC LDA: 0.8594751278575983\n",
      "PR AUC LDA: 0.6914553209146171\n",
      "F-score LDA: 0.6078028747433265\n",
      "Sensitivity LDA: 0.5207600281491908\n",
      "Precision LDA: 0.7297830374753451\n",
      "Specificity LDA: 0.946200667582957\n",
      "-------------------------------------------------------------\n",
      "ROC AUC CART: 0.8494429370223344\n",
      "PR AUC CART: 0.6190763974032228\n",
      "F-score CART: 0.7550392893747865\n",
      "Sensitivity CART: 0.7776213933849402\n",
      "Precision CART: 0.7337317397078353\n",
      "Specificity CART: 0.921264480659729\n",
      "-------------------------------------------------------------\n"
     ]
    }
   ],
   "source": [
    "# Get model performance on test set\n",
    "evaluate_model(x_train,y_train,x_test,y_test,transform_pipelines)"
   ]
  },
  {
   "cell_type": "markdown",
   "id": "6417b2fc-9b4c-450e-8e22-b1ca6e271105",
   "metadata": {},
   "source": [
    "**Observations:**\n",
    "- Observations from evaluation set are confirmed by test set. \n",
    "- Logistic regression is best performing model when using advanced data transforms. The performance is similar to the accuracy of a baseline LDA model. "
   ]
  },
  {
   "cell_type": "markdown",
   "id": "56bb38b7-ea63-4c48-9fb7-cd2609719de6",
   "metadata": {
    "tags": []
   },
   "source": [
    "#### Use alternate cutoffs"
   ]
  },
  {
   "cell_type": "markdown",
   "id": "efa18518-0952-4274-90ac-efa10a83bca4",
   "metadata": {},
   "source": [
    "In case of class imbalance, it is beneficial to focus on the prediciton performance of the minority class.  \n",
    "Metrics such as **presicion** and **recall (or sensitivity)** allow to do so, as precision takes into account the quality of the minority class predictions while recall measures the fraction of the minority class correctly predicted. The **f-score** allows to find the model that balances precision and recall. Thus, the probability threshold that maximizes the f-score will be found with the evaluation set and used for predicting the test set. \n"
   ]
  },
  {
   "cell_type": "code",
   "execution_count": 26,
   "id": "268696e3-93c7-4796-bdd9-f2eb8ed05007",
   "metadata": {},
   "outputs": [],
   "source": [
    "# Optimal thresholds that maximize f-score in evaluation set\n",
    "optimal_thresholds = {'Logistic Regression': optimal_cutoff(y_evaluation,predicted_prob[0]),\n",
    "                     'LDA': optimal_cutoff(y_evaluation,predicted_prob[1]),\n",
    "                     'CART':optimal_cutoff(y_evaluation,predicted_prob[2])}"
   ]
  },
  {
   "cell_type": "code",
   "execution_count": 27,
   "id": "18c86453-23a4-4919-857a-74e394857b03",
   "metadata": {},
   "outputs": [
    {
     "name": "stdout",
     "output_type": "stream",
     "text": [
      "ROC AUC Logistic Regression: 0.8599212443198667\n",
      "PR AUC Logistic Regression: 0.7020068220417406\n",
      "F-score Logistic Regression: 0.6547208821502412\n",
      "Sensitivity Logistic Regression: 0.6680731364275668\n",
      "Precision Logistic Regression: 0.6418918918918919\n",
      "Specificity Logistic Regression: 0.8959560266980762\n",
      "-------------------------------------------------------------\n",
      "ROC AUC LDA: 0.8560303978592062\n",
      "PR AUC LDA: 0.683827930587558\n",
      "F-score LDA: 0.6689008042895443\n",
      "Sensitivity LDA: 0.7018284106891702\n",
      "Precision LDA: 0.6389244558258643\n",
      "Specificity LDA: 0.889281507656066\n",
      "-------------------------------------------------------------\n",
      "ROC AUC CART: 0.8400923399581538\n",
      "PR AUC CART: 0.6052174308082163\n",
      "F-score CART: 0.743289745354439\n",
      "Sensitivity CART: 0.759493670886076\n",
      "Precision CART: 0.7277628032345014\n",
      "Specificity CART: 0.9206910090302316\n",
      "-------------------------------------------------------------\n"
     ]
    }
   ],
   "source": [
    "# Get performance on evaluation set with optimal thresholds \n",
    "evaluate_model(x_train,y_train,x_evaluation,y_evaluation,transform_pipelines,optimal_threshold=True,threshold=optimal_thresholds)"
   ]
  },
  {
   "cell_type": "markdown",
   "id": "2fbe5482-4f2f-45f6-b6cd-b35a05399cd5",
   "metadata": {},
   "source": [
    "**Observations:**\n",
    "- Both Logistic regression and LDA models improved performance for predicting minority class.\n",
    "- Both linear models perform equally well when balancing minority and majority predictions.\n",
    "- While Logistic regression has highest AUC, decision tree remains best when it comes to the minority class (f-score), even though cutoff rates were optimized for linear models.  \n",
    "\n",
    "*Note: Decision Tree has thresholds of 0 and 1, which means that all leaf nodes only contain samples of one class.  \n",
    "Hence, thresholds were not adjusted for decision tree.*"
   ]
  },
  {
   "cell_type": "code",
   "execution_count": 28,
   "id": "9e3284b5-ce6b-4efd-81cf-67217df64b5c",
   "metadata": {},
   "outputs": [
    {
     "name": "stdout",
     "output_type": "stream",
     "text": [
      "ROC AUC Logistic Regression: 0.8609016556648726\n",
      "PR AUC Logistic Regression: 0.70135064195579\n",
      "F-score Logistic Regression: 0.6625344352617081\n",
      "Sensitivity Logistic Regression: 0.6769880365939479\n",
      "Precision Logistic Regression: 0.6486850977747809\n",
      "Specificity Logistic Regression: 0.8977027292362065\n",
      "-------------------------------------------------------------\n",
      "ROC AUC LDA: 0.8594751278575983\n",
      "PR AUC LDA: 0.6914553209146171\n",
      "F-score LDA: 0.6642165051787505\n",
      "Sensitivity LDA: 0.6995073891625616\n",
      "Precision LDA: 0.6323155216284987\n",
      "Specificity LDA: 0.8865108973100334\n",
      "-------------------------------------------------------------\n",
      "ROC AUC CART: 0.8494429370223344\n",
      "PR AUC CART: 0.6190763974032228\n",
      "F-score CART: 0.7550392893747865\n",
      "Sensitivity CART: 0.7776213933849402\n",
      "Precision CART: 0.7337317397078353\n",
      "Specificity CART: 0.921264480659729\n",
      "-------------------------------------------------------------\n"
     ]
    }
   ],
   "source": [
    "# Get performance on test set with optimal thresholds from evaluation set\n",
    "evaluate_model(x_train,y_train,x_test,y_test,transform_pipelines,optimal_threshold=True,threshold=optimal_thresholds)"
   ]
  },
  {
   "cell_type": "markdown",
   "id": "66b270e6-20b3-4357-a730-b6a62ad2c9f2",
   "metadata": {},
   "source": [
    "**Observations:**\n",
    "- Tendency of evaluation set is confirmed by test set.\n",
    "- Linear models perform very similar both on minority and majority classes. \n",
    "- Decision tree outperforms linear models both on majority and minority classes."
   ]
  },
  {
   "cell_type": "markdown",
   "id": "98d53e27-234d-41e0-85aa-fc75f97dbd15",
   "metadata": {
    "tags": []
   },
   "source": [
    "#### Sampling techniques"
   ]
  },
  {
   "cell_type": "markdown",
   "id": "573661e8-e644-4db7-9b43-cec9b61448ae",
   "metadata": {
    "tags": []
   },
   "source": [
    "##### Oversample minority class"
   ]
  },
  {
   "cell_type": "code",
   "execution_count": 29,
   "id": "2c1237e6-fc4e-4f1e-ad26-3015dfe9f04d",
   "metadata": {},
   "outputs": [
    {
     "name": "stdout",
     "output_type": "stream",
     "text": [
      "Counter({0: 17827, 1: 17827})\n"
     ]
    }
   ],
   "source": [
    "oversample = RandomOverSampler(sampling_strategy='minority', random_state=1)\n",
    "x_over, y_over = oversample.fit_resample(x_train,y_train)\n",
    "print(Counter(y_over))"
   ]
  },
  {
   "cell_type": "markdown",
   "id": "2e4528d4-edf3-4f03-aa42-dd7d650848a7",
   "metadata": {},
   "source": [
    "Both default and non-default loans are equally represented in training set to enhance default class prediction."
   ]
  },
  {
   "cell_type": "code",
   "execution_count": 30,
   "id": "329a93ea-97ef-4d34-b97b-6d837f788839",
   "metadata": {},
   "outputs": [
    {
     "name": "stdout",
     "output_type": "stream",
     "text": [
      "ROC AUC Logistic Regression: 0.8632394527192576\n",
      "PR AUC Logistic Regression: 0.6957259189821191\n",
      "F-score Logistic Regression: 0.6361474435196195\n",
      "Sensitivity Logistic Regression: 0.7524613220815752\n",
      "Precision Logistic Regression: 0.5509783728115345\n",
      "Specificity Logistic Regression: 0.828818217510797\n",
      "-------------------------------------------------------------\n",
      "ROC AUC LDA: 0.8635144515182087\n",
      "PR AUC LDA: 0.6996065705747226\n",
      "F-score LDA: 0.6318234610917537\n",
      "Sensitivity LDA: 0.7651195499296765\n",
      "Precision LDA: 0.5380811078140455\n",
      "Specificity LDA: 0.8166470357283078\n",
      "-------------------------------------------------------------\n",
      "ROC AUC CART: 0.8471097791892173\n",
      "PR AUC CART: 0.6275323254928472\n",
      "F-score CART: 0.7589098532494759\n",
      "Sensitivity CART: 0.7637130801687764\n",
      "Precision CART: 0.7541666666666667\n",
      "Specificity CART: 0.9305064782096584\n",
      "-------------------------------------------------------------\n"
     ]
    }
   ],
   "source": [
    "# Train models on new training set + get performance metrics from evaluation set\n",
    "overs_predicted_prob = []\n",
    "evaluate_model(x_over,y_over,x_evaluation,y_evaluation,transform_pipelines,overs_predicted_prob)"
   ]
  },
  {
   "cell_type": "markdown",
   "id": "aa9a41dc-4220-4634-bb0e-3c53f3e29da7",
   "metadata": {},
   "source": [
    "**Observations:**\n",
    "- Linear models both lose in minortiy and majority class accuracy compared to threshold optimizing. \n",
    "- Decision tree remains best performing model when cutoff rates are considered. "
   ]
  },
  {
   "cell_type": "code",
   "execution_count": 31,
   "id": "47c9b2dc-7a95-4cbc-94dc-a87cb6352b6a",
   "metadata": {},
   "outputs": [],
   "source": [
    "# Get optimal thresholds from evaluation set \n",
    "over_optimal_thresholds = {'Logistic Regression': optimal_cutoff(y_evaluation,overs_predicted_prob[0]),\n",
    "                          'LDA': optimal_cutoff(y_evaluation,overs_predicted_prob[1]),\n",
    "                          'CART': optimal_cutoff(y_evaluation,overs_predicted_prob[2])}"
   ]
  },
  {
   "cell_type": "code",
   "execution_count": 32,
   "id": "efac89b1-e4e2-4ed8-86a9-04cccc4fd4af",
   "metadata": {},
   "outputs": [
    {
     "data": {
      "text/plain": [
       "{'Logistic Regression': 0.6211890039115545,\n",
       " 'LDA': 0.6515564207718683,\n",
       " 'CART': 1.0}"
      ]
     },
     "execution_count": 32,
     "metadata": {},
     "output_type": "execute_result"
    }
   ],
   "source": [
    "over_optimal_thresholds # Note that CART threshold = 1 which does not affect predictions as leaf nodes are pure"
   ]
  },
  {
   "cell_type": "code",
   "execution_count": 33,
   "id": "e3017776-349c-4452-a90c-fa23d15698a5",
   "metadata": {},
   "outputs": [
    {
     "name": "stdout",
     "output_type": "stream",
     "text": [
      "ROC AUC Logistic Regression: 0.8667746833596028\n",
      "PR AUC Logistic Regression: 0.7004808359871734\n",
      "F-score Logistic Regression: 0.6687200547570158\n",
      "Sensitivity Logistic Regression: 0.6875439831104856\n",
      "Precision Logistic Regression: 0.6508994003997335\n",
      "Specificity Logistic Regression: 0.8971136854506185\n",
      "-------------------------------------------------------------\n",
      "ROC AUC LDA: 0.866703799132062\n",
      "PR AUC LDA: 0.7057531555141187\n",
      "F-score LDA: 0.6662035428968391\n",
      "Sensitivity LDA: 0.6748768472906403\n",
      "Precision LDA: 0.6577503429355281\n",
      "Specificity LDA: 0.9020223836638523\n",
      "-------------------------------------------------------------\n",
      "ROC AUC CART: 0.8411449916838846\n",
      "PR AUC CART: 0.6128188512485419\n",
      "F-score CART: 0.7480862908837858\n",
      "Sensitivity CART: 0.7565095003518649\n",
      "Precision CART: 0.7398485891259463\n",
      "Specificity CART: 0.9257804830159042\n",
      "-------------------------------------------------------------\n"
     ]
    }
   ],
   "source": [
    "# Get oversample performance on test set with optimal thresholds\n",
    "evaluate_model(x_over,y_over,x_test,y_test,transform_pipelines,optimal_threshold=True,threshold=over_optimal_thresholds)"
   ]
  },
  {
   "cell_type": "markdown",
   "id": "0069ec67-35ea-42d2-94e7-6c0fe47105f2",
   "metadata": {},
   "source": [
    "**Observations:**\n",
    "- Combining oversampling with optimal thresholds did not lead to significant improvments. \n",
    "- Decision tree remains best model among threshold-optimized models. "
   ]
  },
  {
   "cell_type": "markdown",
   "id": "63c6929b-b07b-405e-8e90-8ac51f9a42aa",
   "metadata": {
    "tags": []
   },
   "source": [
    "##### Downsample majority class"
   ]
  },
  {
   "cell_type": "code",
   "execution_count": 34,
   "id": "a92a0269-ce06-4fcc-8001-7ce31d68a208",
   "metadata": {},
   "outputs": [
    {
     "name": "stdout",
     "output_type": "stream",
     "text": [
      "Counter({0: 17827, 1: 4975})\n",
      "Counter({0: 4975, 1: 4975})\n"
     ]
    }
   ],
   "source": [
    "downsample = RandomUnderSampler(sampling_strategy= 'majority', random_state=1)\n",
    "x_down, y_down = downsample.fit_resample(x_train,y_train)\n",
    "print(Counter(y_train))\n",
    "print(Counter(y_down))"
   ]
  },
  {
   "cell_type": "markdown",
   "id": "f0c7cd53-7a81-41bf-8eb7-cb64478b1cca",
   "metadata": {},
   "source": [
    "Randomly delete non-default loans so that models can better learn characteristics of default loans. "
   ]
  },
  {
   "cell_type": "code",
   "execution_count": 35,
   "id": "b9633bb1-57a1-4fb8-ab1e-06e4f2364a02",
   "metadata": {},
   "outputs": [
    {
     "name": "stdout",
     "output_type": "stream",
     "text": [
      "ROC AUC Logistic Regression: 0.8632151556366195\n",
      "PR AUC Logistic Regression: 0.6946871395065393\n",
      "F-score Logistic Regression: 0.65164198325821\n",
      "Sensitivity Logistic Regression: 0.7116736990154712\n",
      "Precision Logistic Regression: 0.6009501187648456\n",
      "Specificity Logistic Regression: 0.8680800942285041\n",
      "-------------------------------------------------------------\n",
      "ROC AUC LDA: 0.8636944708123012\n",
      "PR AUC LDA: 0.6956108835609918\n",
      "F-score LDA: 0.6283084004602991\n",
      "Sensitivity LDA: 0.7679324894514767\n",
      "Precision LDA: 0.5316455696202531\n",
      "Specificity LDA: 0.8111503729878288\n",
      "-------------------------------------------------------------\n",
      "ROC AUC CART: 0.8147932787642944\n",
      "PR AUC CART: 0.4904676083459289\n",
      "F-score CART: 0.6583143507972665\n",
      "Sensitivity CART: 0.8129395218002813\n",
      "Precision CART: 0.55311004784689\n",
      "Specificity CART: 0.8166470357283078\n",
      "-------------------------------------------------------------\n"
     ]
    }
   ],
   "source": [
    "# Fit models on downsampled data + predict defaults in evaluation set\n",
    "downs_predicted_prob = []\n",
    "evaluate_model(x_down,y_down,x_evaluation,y_evaluation,transform_pipelines,downs_predicted_prob)"
   ]
  },
  {
   "cell_type": "markdown",
   "id": "921a29d4-b496-4917-9db5-e15a400f3bce",
   "metadata": {},
   "source": [
    "**Observations:**\n",
    "- Logistic regression slightly improved minority accuracy (f-score) and majority predictions (specificity) as compared to oversample performance on evaluation set. \n",
    "- LDA performance remained unchanged. \n",
    "- CART performance on minority and majority classes significantly decreased compared to previous techniques. "
   ]
  },
  {
   "cell_type": "code",
   "execution_count": 36,
   "id": "dc358758-20d0-4959-9009-e88f8c4175f1",
   "metadata": {},
   "outputs": [],
   "source": [
    "# Get optimal thresholds from evaluation set \n",
    "down_optimal_thresholds = {'Logistic Regression': optimal_cutoff(y_evaluation,downs_predicted_prob[0]),\n",
    "                          'LDA': optimal_cutoff(y_evaluation,downs_predicted_prob[1]),\n",
    "                          'CART': optimal_cutoff(y_evaluation,downs_predicted_prob[2])}"
   ]
  },
  {
   "cell_type": "code",
   "execution_count": 37,
   "id": "1e07c697-2417-4ad5-8500-35bc1fd7792a",
   "metadata": {},
   "outputs": [
    {
     "data": {
      "text/plain": [
       "{'Logistic Regression': 0.5622363298547945,\n",
       " 'LDA': 0.6415085373560864,\n",
       " 'CART': 1.0}"
      ]
     },
     "execution_count": 37,
     "metadata": {},
     "output_type": "execute_result"
    }
   ],
   "source": [
    "down_optimal_thresholds"
   ]
  },
  {
   "cell_type": "code",
   "execution_count": 38,
   "id": "cfe55970-5273-4048-8036-12158377071e",
   "metadata": {},
   "outputs": [
    {
     "name": "stdout",
     "output_type": "stream",
     "text": [
      "ROC AUC Logistic Regression: 0.8631924736149698\n",
      "PR AUC Logistic Regression: 0.6969920799769043\n",
      "F-score Logistic Regression: 0.6648256817397308\n",
      "Sensitivity Logistic Regression: 0.6776917663617171\n",
      "Precision Logistic Regression: 0.6524390243902439\n",
      "Specificity Logistic Regression: 0.8992735126644414\n",
      "-------------------------------------------------------------\n",
      "ROC AUC LDA: 0.8663166303102892\n",
      "PR AUC LDA: 0.7017945508935148\n",
      "F-score LDA: 0.6655382532159783\n",
      "Sensitivity LDA: 0.6917663617171006\n",
      "Precision LDA: 0.6412263535551207\n",
      "Specificity LDA: 0.8920086393088553\n",
      "-------------------------------------------------------------\n",
      "ROC AUC CART: 0.8094080641931987\n",
      "PR AUC CART: 0.47890936767386605\n",
      "F-score CART: 0.6481481481481481\n",
      "Sensitivity CART: 0.812807881773399\n",
      "Precision CART: 0.5389640690620625\n",
      "Specificity CART: 0.8060082466129982\n",
      "-------------------------------------------------------------\n"
     ]
    }
   ],
   "source": [
    "# Get downsample performance on test set with optimal thresholds\n",
    "evaluate_model(x_down,y_down,x_test,y_test,transform_pipelines,optimal_threshold=True,threshold=down_optimal_thresholds)"
   ]
  },
  {
   "cell_type": "markdown",
   "id": "4619c8e0-148f-427b-b989-fcd69d74ce31",
   "metadata": {},
   "source": [
    "**Observations:**\n",
    "- Threshold optimization allows to increase performance of linear models, especially for LDA. \n",
    "- Loss in decision tree performance confirmed by test set. Downsampling is not adviced for CART. "
   ]
  },
  {
   "cell_type": "markdown",
   "id": "b5221e5a-04d3-481d-ac96-b25b7414403e",
   "metadata": {
    "tags": []
   },
   "source": [
    "##### Combine random over- and downsampling"
   ]
  },
  {
   "cell_type": "code",
   "execution_count": 39,
   "id": "bbf9f14a-0835-41af-a7db-3e26257d52c6",
   "metadata": {},
   "outputs": [
    {
     "name": "stdout",
     "output_type": "stream",
     "text": [
      "Counter({0: 17827, 1: 8913})\n",
      "Counter({0: 14855, 1: 8913})\n"
     ]
    }
   ],
   "source": [
    "over = RandomOverSampler(sampling_strategy=0.5, random_state=1)\n",
    "x_sample, y_sample = over.fit_resample(x_train,y_train)\n",
    "print(Counter(y_sample))\n",
    "down = RandomUnderSampler(sampling_strategy=0.6, random_state=1)\n",
    "x_sample, y_sample = down.fit_resample(x_sample,y_sample)\n",
    "print(Counter(y_sample))"
   ]
  },
  {
   "cell_type": "markdown",
   "id": "7ed8ed4f-c2f5-4081-8950-36b33d59fe27",
   "metadata": {},
   "source": [
    "First oversample minority class: Imbalance ratio goes from 1:4 to 1:2.  \n",
    "Then downsample majority class: Imbalance ratio goes from 1:2 to approx. 1:1.67. "
   ]
  },
  {
   "cell_type": "code",
   "execution_count": 40,
   "id": "2fa516e1-3529-4f70-9143-c64fc43f3e68",
   "metadata": {},
   "outputs": [
    {
     "name": "stdout",
     "output_type": "stream",
     "text": [
      "ROC AUC Logistic Regression: 0.8585749650591386\n",
      "PR AUC Logistic Regression: 0.6959431995034739\n",
      "F-score Logistic Regression: 0.6396011396011396\n",
      "Sensitivity Logistic Regression: 0.6315049226441631\n",
      "Precision Logistic Regression: 0.6479076479076479\n",
      "Specificity Logistic Regression: 0.9042010208087946\n",
      "-------------------------------------------------------------\n",
      "ROC AUC LDA: 0.8611355462453553\n",
      "PR AUC LDA: 0.6956000436552556\n",
      "F-score LDA: 0.6621346023113529\n",
      "Sensitivity LDA: 0.6849507735583685\n",
      "Precision LDA: 0.6407894736842106\n",
      "Specificity LDA: 0.8928150765606596\n",
      "-------------------------------------------------------------\n",
      "ROC AUC CART: 0.8383230705769507\n",
      "PR AUC CART: 0.5805113362025757\n",
      "F-score CART: 0.7277521423862887\n",
      "Sensitivity CART: 0.7763713080168776\n",
      "Precision CART: 0.684863523573201\n",
      "Specificity CART: 0.9002748331370239\n",
      "-------------------------------------------------------------\n"
     ]
    }
   ],
   "source": [
    "# Fit models on resampled data + predict defaults in evaluation set\n",
    "updown_predicted_prob = []\n",
    "evaluate_model(x_sample,y_sample,x_evaluation,y_evaluation,transform_pipelines,updown_predicted_prob)"
   ]
  },
  {
   "cell_type": "markdown",
   "id": "69717988-7f76-4077-b03e-bd1f48736de1",
   "metadata": {},
   "source": [
    "**Observations:**\n",
    "- LDA performs slightly better than logistic regression in terms of minority class (mainly due to better sensitivity). \n",
    "- Decision tree best model for minority class and equally well for majority class than logistic regression."
   ]
  },
  {
   "cell_type": "code",
   "execution_count": 41,
   "id": "3b75c118-23b5-4998-baed-9601e3bdf8ca",
   "metadata": {},
   "outputs": [],
   "source": [
    "# Get optimal thresholds from evaluation set \n",
    "updown_optimal_thresholds = {'Logistic Regression': optimal_cutoff(y_evaluation,updown_predicted_prob[0]),\n",
    "                            'LDA': optimal_cutoff(y_evaluation,updown_predicted_prob[1]),\n",
    "                            'CART': optimal_cutoff(y_evaluation,updown_predicted_prob[2])}"
   ]
  },
  {
   "cell_type": "code",
   "execution_count": 42,
   "id": "4551db15-4b0b-4ac4-85ab-5b01f89eec82",
   "metadata": {},
   "outputs": [
    {
     "data": {
      "text/plain": [
       "{'Logistic Regression': 0.519720779929063,\n",
       " 'LDA': 0.5406336740559843,\n",
       " 'CART': 1.0}"
      ]
     },
     "execution_count": 42,
     "metadata": {},
     "output_type": "execute_result"
    }
   ],
   "source": [
    "updown_optimal_thresholds"
   ]
  },
  {
   "cell_type": "code",
   "execution_count": 43,
   "id": "511cd5c5-c0de-48a3-89d4-1dda24f0712a",
   "metadata": {},
   "outputs": [
    {
     "name": "stdout",
     "output_type": "stream",
     "text": [
      "ROC AUC Logistic Regression: 0.8612620183655092\n",
      "PR AUC Logistic Regression: 0.6990171539067027\n",
      "F-score Logistic Regression: 0.6567055393586007\n",
      "Sensitivity Logistic Regression: 0.6340605207600282\n",
      "Precision Logistic Regression: 0.6810279667422524\n",
      "Specificity Logistic Regression: 0.9171411741606126\n",
      "-------------------------------------------------------------\n",
      "ROC AUC LDA: 0.8645877736728793\n",
      "PR AUC LDA: 0.7020006504065378\n",
      "F-score LDA: 0.6654929577464788\n",
      "Sensitivity LDA: 0.6650246305418719\n",
      "Precision LDA: 0.6659619450317125\n",
      "Specificity LDA: 0.9069310818770862\n",
      "-------------------------------------------------------------\n",
      "ROC AUC CART: 0.8399278694260021\n",
      "PR AUC CART: 0.5882107676329642\n",
      "F-score CART: 0.7330889703432188\n",
      "Sensitivity CART: 0.7741027445460943\n",
      "Precision CART: 0.6962025316455697\n",
      "Specificity CART: 0.90575299430591\n",
      "-------------------------------------------------------------\n"
     ]
    }
   ],
   "source": [
    "# Get performance from resampled model on test set with optimal thresholds \n",
    "evaluate_model(x_sample,y_sample,x_test,y_test,transform_pipelines,optimal_threshold=True,threshold=updown_optimal_thresholds)"
   ]
  },
  {
   "cell_type": "markdown",
   "id": "f096b3f4-1f43-4bf5-a66f-7d4232bae789",
   "metadata": {},
   "source": [
    "**Observations:**\n",
    "- Observations from evaluation set confirmed by test set:  \n",
    "Linear models perform similar but cannot outperform decision tree due to inferior minority class accuracy. "
   ]
  },
  {
   "cell_type": "markdown",
   "id": "cf63b963-ffa9-447a-9ac1-423a3af61d83",
   "metadata": {
    "tags": []
   },
   "source": [
    "##### SMOTE"
   ]
  },
  {
   "cell_type": "markdown",
   "id": "a6caebe3-14be-41a8-9d16-494d25d24aa0",
   "metadata": {},
   "source": [
    "Instead of using naive oversampling and simply duplicating minority observations, SMOTE allows to add new information to the model by creating new minority instances with interpolation. As for naive oversampling,  the number of default and non-default observations will be equal (=1:1 ratio).    \n",
    "\n",
    "*Note: SMOTE does not support missing values. Thus, the oversample algorithm was included in the pipeline. The minority class is increased to have equal observations than majority class (17827).*"
   ]
  },
  {
   "cell_type": "code",
   "execution_count": 44,
   "id": "034a0fb1-7ad6-4e84-a4e9-6b12162a0a6b",
   "metadata": {},
   "outputs": [
    {
     "name": "stdout",
     "output_type": "stream",
     "text": [
      "ROC AUC Logistic Regression: 0.8598378611499038\n",
      "PR AUC Logistic Regression: 0.6934528962700758\n",
      "F-score Logistic Regression: 0.6305418719211823\n",
      "Sensitivity Logistic Regression: 0.720112517580872\n",
      "Precision Logistic Regression: 0.56078860898138\n",
      "Specificity Logistic Regression: 0.8425598743619945\n",
      "-------------------------------------------------------------\n",
      "ROC AUC LDA: 0.8605921751245363\n",
      "PR AUC LDA: 0.69499728370317\n",
      "F-score LDA: 0.6265895953757226\n",
      "Sensitivity LDA: 0.7623066104078763\n",
      "Precision LDA: 0.5318940137389597\n",
      "Specificity LDA: 0.8127208480565371\n",
      "-------------------------------------------------------------\n",
      "ROC AUC CART: 0.8251579172319881\n",
      "PR AUC CART: 0.5629840937213096\n",
      "F-score CART: 0.7120908483633935\n",
      "Sensitivity CART: 0.749648382559775\n",
      "Precision CART: 0.678117048346056\n",
      "Specificity CART: 0.900667451904201\n",
      "-------------------------------------------------------------\n"
     ]
    }
   ],
   "source": [
    "# Include smote in pipeline + get predictions on evaluation set \n",
    "smote_pipelines = []\n",
    "smote_predicted_prob = []\n",
    "\n",
    "transformers=[\n",
    "        (\n",
    "            'Multi_transform1',\n",
    "            Pipeline([\n",
    "                ('SimpleImputer',SimpleImputer(strategy='mean')),\n",
    "                ('Scaler1',MinMaxScaler()),\n",
    "                ('Power1',PowerTransformer(method='yeo-johnson'))]),\n",
    "                ['person_emp_length','loan_int_rate']),\n",
    "    (\n",
    "            'Multi_transform2',\n",
    "            Pipeline([\n",
    "                ('Scaler2',MinMaxScaler()),\n",
    "                ('Power2',PowerTransformer(method='yeo-johnson'))\n",
    "            ]),\n",
    "                ['person_age','person_income','loan_amnt']),\n",
    "    (\n",
    "            'Single_tranform',\n",
    "            PowerTransformer(method='yeo-johnson'), ['loan_percent_income'])\n",
    "    \n",
    "    \n",
    "            ]\n",
    "\n",
    "transform = ColumnTransformer(transformers=transformers, remainder='passthrough')\n",
    "smote_pipelines.append(('Logistic Regression', make_pipeline(transform, SMOTE(sampling_strategy='minority', random_state=1),SGDClassifier(loss='log_loss',random_state=1))))\n",
    "smote_pipelines.append(('LDA', make_pipeline(transform, SMOTE(sampling_strategy='minority', random_state=1),LinearDiscriminantAnalysis())))\n",
    "smote_pipelines.append(('CART', make_pipeline(transform, SMOTE(sampling_strategy='minority', random_state=1),DecisionTreeClassifier(random_state=1))))\n",
    "\n",
    "evaluate_model(x_train,y_train,x_evaluation,y_evaluation,smote_pipelines,smote_predicted_prob)"
   ]
  },
  {
   "cell_type": "markdown",
   "id": "605ee662-70aa-4c53-a876-0691a5864d84",
   "metadata": {},
   "source": [
    "**Observations:**\n",
    "- Logistic regression and LDA with equal performance on minority class, logistic regression does slightly better on majority class. \n",
    "- Both linear models outperformed by decision tree for minority and majority classes. "
   ]
  },
  {
   "cell_type": "code",
   "execution_count": 45,
   "id": "b5196f59-3008-49ae-a4ad-7ae16c3ca039",
   "metadata": {},
   "outputs": [],
   "source": [
    "# Optimal thresholds for smote from evaluation set \n",
    "smote_optimal_thresholds = {'Logistic Regression': optimal_cutoff(y_evaluation,smote_predicted_prob[0]),\n",
    "                           'LDA': optimal_cutoff(y_evaluation,smote_predicted_prob[1]),\n",
    "                           'CART': optimal_cutoff(y_evaluation,smote_predicted_prob[2])}"
   ]
  },
  {
   "cell_type": "code",
   "execution_count": 46,
   "id": "302d1afc-fb68-4daa-977f-cf5f316a24ac",
   "metadata": {},
   "outputs": [
    {
     "data": {
      "text/plain": [
       "{'Logistic Regression': 0.6076032078851781,\n",
       " 'LDA': 0.6557838378213836,\n",
       " 'CART': 1.0}"
      ]
     },
     "execution_count": 46,
     "metadata": {},
     "output_type": "execute_result"
    }
   ],
   "source": [
    "smote_optimal_thresholds"
   ]
  },
  {
   "cell_type": "code",
   "execution_count": 47,
   "id": "8df4a218-dbec-4074-b87f-8663b4a9973d",
   "metadata": {},
   "outputs": [
    {
     "name": "stdout",
     "output_type": "stream",
     "text": [
      "ROC AUC Logistic Regression: 0.8627880328079288\n",
      "PR AUC Logistic Regression: 0.6957619804140306\n",
      "F-score Logistic Regression: 0.6507713884992987\n",
      "Sensitivity Logistic Regression: 0.6530612244897959\n",
      "Precision Logistic Regression: 0.6484975541579315\n",
      "Specificity Logistic Regression: 0.901236991949735\n",
      "-------------------------------------------------------------\n",
      "ROC AUC LDA: 0.8643957091966965\n",
      "PR AUC LDA: 0.7017839988937338\n",
      "F-score LDA: 0.6615811373092927\n",
      "Sensitivity LDA: 0.6713581984517946\n",
      "Precision LDA: 0.6520847573479153\n",
      "Specificity LDA: 0.9000589043785588\n",
      "-------------------------------------------------------------\n",
      "ROC AUC CART: 0.8397966714259048\n",
      "PR AUC CART: 0.5907316029472339\n",
      "F-score CART: 0.7345844504021448\n",
      "Sensitivity CART: 0.7712878254750176\n",
      "Precision CART: 0.7012156110044786\n",
      "Specificity CART: 0.9083055173767917\n",
      "-------------------------------------------------------------\n"
     ]
    }
   ],
   "source": [
    "# SMOTE performance on test set with optimal thresholds\n",
    "evaluate_model(x_train,y_train,x_test,y_test,smote_pipelines,optimal_threshold=True,threshold=smote_optimal_thresholds)"
   ]
  },
  {
   "cell_type": "markdown",
   "id": "a59ff6cb-056d-4038-8aa0-c8db10c44b7c",
   "metadata": {},
   "source": [
    "**Observations:**\n",
    "- LDA and logistic regression do equally well with optimized thresholds on test set. \n",
    "- Decision tree remains best performing model by showing higher accuracy on minority class. "
   ]
  },
  {
   "cell_type": "markdown",
   "id": "ee800312-809f-4739-8d9c-de4711c3dd61",
   "metadata": {},
   "source": [
    "### References"
   ]
  },
  {
   "cell_type": "markdown",
   "id": "9d47970b-5445-4f31-8481-12d15555911a",
   "metadata": {},
   "source": [
    "Kuhn, M. & Johnson, K., 2013. Remedies for Severe Class Imbalance. In: Applied Predictive Modeling. New York: Springer, pp. 419-442."
   ]
  }
 ],
 "metadata": {
  "citation-manager": {
   "items": {}
  },
  "kernelspec": {
   "display_name": "Python 3 (ipykernel)",
   "language": "python",
   "name": "python3"
  },
  "language_info": {
   "codemirror_mode": {
    "name": "ipython",
    "version": 3
   },
   "file_extension": ".py",
   "mimetype": "text/x-python",
   "name": "python",
   "nbconvert_exporter": "python",
   "pygments_lexer": "ipython3",
   "version": "3.10.9"
  }
 },
 "nbformat": 4,
 "nbformat_minor": 5
}
